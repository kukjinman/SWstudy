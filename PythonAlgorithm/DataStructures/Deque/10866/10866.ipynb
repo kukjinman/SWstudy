{
 "cells": [
  {
   "cell_type": "code",
   "execution_count": 11,
   "id": "da879dfb",
   "metadata": {},
   "outputs": [
    {
     "name": "stdout",
     "output_type": "stream",
     "text": [
      "1\n"
     ]
    },
    {
     "ename": "TypeError",
     "evalue": "'str' object cannot be interpreted as an integer",
     "output_type": "error",
     "traceback": [
      "\u001b[1;31m---------------------------------------------------------------------------\u001b[0m",
      "\u001b[1;31mTypeError\u001b[0m                                 Traceback (most recent call last)",
      "\u001b[1;32m<ipython-input-11-10a642381ebc>\u001b[0m in \u001b[0;36m<module>\u001b[1;34m\u001b[0m\n\u001b[0;32m      6\u001b[0m \u001b[0mdq\u001b[0m \u001b[1;33m=\u001b[0m \u001b[0mdeque\u001b[0m\u001b[1;33m(\u001b[0m\u001b[1;33m)\u001b[0m\u001b[1;33m\u001b[0m\u001b[1;33m\u001b[0m\u001b[0m\n\u001b[0;32m      7\u001b[0m \u001b[1;33m\u001b[0m\u001b[0m\n\u001b[1;32m----> 8\u001b[1;33m \u001b[1;32mfor\u001b[0m \u001b[0mi\u001b[0m \u001b[1;32min\u001b[0m \u001b[0mrange\u001b[0m\u001b[1;33m(\u001b[0m\u001b[0mN\u001b[0m\u001b[1;33m)\u001b[0m \u001b[1;33m:\u001b[0m\u001b[1;33m\u001b[0m\u001b[1;33m\u001b[0m\u001b[0m\n\u001b[0m\u001b[0;32m      9\u001b[0m     \u001b[0mOrder\u001b[0m \u001b[1;33m=\u001b[0m \u001b[0mlist\u001b[0m\u001b[1;33m(\u001b[0m\u001b[0minput\u001b[0m\u001b[1;33m(\u001b[0m\u001b[1;33m)\u001b[0m\u001b[1;33m.\u001b[0m\u001b[0msplit\u001b[0m\u001b[1;33m(\u001b[0m\u001b[1;33m)\u001b[0m\u001b[1;33m)\u001b[0m\u001b[1;33m\u001b[0m\u001b[1;33m\u001b[0m\u001b[0m\n\u001b[0;32m     10\u001b[0m \u001b[1;33m\u001b[0m\u001b[0m\n",
      "\u001b[1;31mTypeError\u001b[0m: 'str' object cannot be interpreted as an integer"
     ]
    }
   ],
   "source": [
    "from collections import deque\n",
    "import sys\n",
    "\n",
    "N = input();\n",
    "\n",
    "dq = deque()\n",
    "\n",
    "for i in range(N) :\n",
    "    Order = list(input().split())\n",
    "    \n",
    "    if Order[0] == \"push_front\" :\n",
    "        dq.appendleftl(Order[1])\n",
    "        \n",
    "    elif Order[0] == \"push_back\" :\n",
    "        dq.append(Order[1])\n",
    "    \n",
    "    elif Order[0] == \"pop_front\" :\n",
    "        if len(dq) == 0 :\n",
    "            print(-1)\n",
    "        else :\n",
    "            print(dq.popleft())\n",
    "            \n",
    "    elif Order[0] == \"push_back\" :\n",
    "        if len(dq) == 0 :\n",
    "            print(-1)\n",
    "        else :\n",
    "            print(dq.pop())\n",
    "        \n",
    "        \n",
    "    elif Order[0] == \"size\" :\n",
    "        print(len(dq))\n",
    "        \n",
    "        \n",
    "        \n",
    "    elif Order[0] == \"empty\" :\n",
    "        if len(dq) == 0 :\n",
    "            print(1)\n",
    "        else : \n",
    "            print(0)\n",
    "        \n",
    "        \n",
    "    elif Order[0] == \"front\" :\n",
    "        \n",
    "        if len(dq) == 0 :\n",
    "            print(-1)\n",
    "        else : \n",
    "            print(dq[0])\n",
    "        \n",
    "        \n",
    "    elif Order[0] == \"back\" :\n",
    "        if len(dq) == 0 :\n",
    "            print(-1)\n",
    "        else : \n",
    "            print(dq[len(dq) -1])\n",
    "        \n",
    "    "
   ]
  },
  {
   "cell_type": "code",
   "execution_count": null,
   "id": "da5ac40c",
   "metadata": {},
   "outputs": [],
   "source": []
  },
  {
   "cell_type": "code",
   "execution_count": null,
   "id": "2fe5ebb4",
   "metadata": {},
   "outputs": [],
   "source": []
  }
 ],
 "metadata": {
  "kernelspec": {
   "display_name": "Python 3",
   "language": "python",
   "name": "python3"
  },
  "language_info": {
   "codemirror_mode": {
    "name": "ipython",
    "version": 3
   },
   "file_extension": ".py",
   "mimetype": "text/x-python",
   "name": "python",
   "nbconvert_exporter": "python",
   "pygments_lexer": "ipython3",
   "version": "3.8.8"
  }
 },
 "nbformat": 4,
 "nbformat_minor": 5
}
