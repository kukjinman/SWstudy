{
 "cells": [
  {
   "cell_type": "code",
   "execution_count": 17,
   "id": "04df3481",
   "metadata": {},
   "outputs": [
    {
     "name": "stdout",
     "output_type": "stream",
     "text": [
      "7\n",
      "4 60\n",
      "4 40\n",
      "1 20\n",
      "2 50\n",
      "3 30\n",
      "4 10\n",
      "6 5\n",
      "185\n"
     ]
    }
   ],
   "source": [
    "n = int(input())\n",
    "\n",
    "arr = []\n",
    "\n",
    "ans = [0 for _ in range(1001)]\n",
    "\n",
    "for i in range(n) :\n",
    "    deadline, score = map(int,input().split())\n",
    "    arr.append([score,deadline])\n",
    "    \n",
    "arr.sort(reverse = True)\n",
    "# arr.sort(reverse = True, key = lambda y : y[1])\n",
    "\n",
    "\n",
    "# for i in range(n):\n",
    "#     print(arr[i][0], arr[i][1])\n",
    "    \n",
    "\n",
    "for i in range(n):\n",
    "    for j in range(arr[i][1] - 1, -1, -1):\n",
    "        if ans[j] == 0:\n",
    "            ans[j] = arr[i][0]\n",
    "            break\n",
    "\n",
    "print(sum(ans))\n",
    "\n"
   ]
  },
  {
   "cell_type": "code",
   "execution_count": null,
   "id": "54c6a137",
   "metadata": {},
   "outputs": [],
   "source": []
  }
 ],
 "metadata": {
  "kernelspec": {
   "display_name": "Python 3 (ipykernel)",
   "language": "python",
   "name": "python3"
  },
  "language_info": {
   "codemirror_mode": {
    "name": "ipython",
    "version": 3
   },
   "file_extension": ".py",
   "mimetype": "text/x-python",
   "name": "python",
   "nbconvert_exporter": "python",
   "pygments_lexer": "ipython3",
   "version": "3.9.7"
  }
 },
 "nbformat": 4,
 "nbformat_minor": 5
}
