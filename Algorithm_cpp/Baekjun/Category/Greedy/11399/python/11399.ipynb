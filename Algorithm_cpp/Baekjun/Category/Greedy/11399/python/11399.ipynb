{
 "cells": [
  {
   "cell_type": "code",
   "execution_count": 7,
   "id": "b6193f6c",
   "metadata": {},
   "outputs": [
    {
     "name": "stdout",
     "output_type": "stream",
     "text": [
      "5\n",
      "3 1 4 3 2\n",
      "<class 'int'>\n",
      "32\n"
     ]
    }
   ],
   "source": [
    "n = int( input())\n",
    "s = list(map(int, input().split()))\n",
    "\n",
    "\n",
    "sum= 0;\n",
    "\n",
    "\n",
    "#오름차순으로 정렬해줍니다. \n",
    "s.sort()\n",
    "# print(s)\n",
    "\n",
    "#큰 for loop n번까지 진행하는 i 입니다. \n",
    "for i in range(n):\n",
    "    #i의 큰 loop가 돌때마다 i번까지 한번더 도는 작은 for loop입니다.\n",
    "    for j in range(i+1):\n",
    "        sum+= s[j]\n",
    "\n",
    "print(sum)"
   ]
  },
  {
   "cell_type": "code",
   "execution_count": null,
   "id": "0aa273e1",
   "metadata": {},
   "outputs": [],
   "source": []
  }
 ],
 "metadata": {
  "kernelspec": {
   "display_name": "Python 3 (ipykernel)",
   "language": "python",
   "name": "python3"
  },
  "language_info": {
   "codemirror_mode": {
    "name": "ipython",
    "version": 3
   },
   "file_extension": ".py",
   "mimetype": "text/x-python",
   "name": "python",
   "nbconvert_exporter": "python",
   "pygments_lexer": "ipython3",
   "version": "3.9.7"
  }
 },
 "nbformat": 4,
 "nbformat_minor": 5
}
