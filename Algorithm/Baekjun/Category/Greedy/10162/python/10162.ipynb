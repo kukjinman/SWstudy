{
 "cells": [
  {
   "cell_type": "code",
   "execution_count": 11,
   "id": "1743060a",
   "metadata": {},
   "outputs": [
    {
     "name": "stdout",
     "output_type": "stream",
     "text": [
      "100\n",
      "0 1 4\n"
     ]
    }
   ],
   "source": [
    "\n",
    "# T 요리시간 단위 초\n",
    "T = int(input())\n",
    "\n",
    "# 조리시간 A,B,C도 초 단위로 맞춤\n",
    "A = 300\n",
    "B = 60\n",
    "C = 10\n",
    "\n",
    "\n",
    "#A,B,C각각의 count를 저장할 변수\n",
    "A_cnt = 0;\n",
    "B_cnt = 0;\n",
    "C_cnt = 0;\n",
    "\n",
    "#A,B,C로 나누어 떨어지지 않을 경우를 위한 flag\n",
    "impossible_flag = False\n",
    "\n",
    "while T != 0:\n",
    "    \n",
    "    \n",
    "    if T >= A:\n",
    "        A_cnt = int(T/A)\n",
    "        T = T%A\n",
    "    \n",
    "    elif T>= B:\n",
    "        B_cnt = int(T/B)\n",
    "        T = T%B\n",
    "    elif T>= C:\n",
    "        C_cnt = int(T/C)\n",
    "        T = T%C\n",
    "    else:\n",
    "        if T!= 0:\n",
    "            impossible_flag = True\n",
    "            break\n",
    "        \n",
    "if impossible_flag == True:\n",
    "    print(-1)\n",
    "else:\n",
    "    print(A_cnt, B_cnt, C_cnt)"
   ]
  },
  {
   "cell_type": "code",
   "execution_count": null,
   "id": "8986beb7",
   "metadata": {},
   "outputs": [],
   "source": []
  }
 ],
 "metadata": {
  "kernelspec": {
   "display_name": "Python 3 (ipykernel)",
   "language": "python",
   "name": "python3"
  },
  "language_info": {
   "codemirror_mode": {
    "name": "ipython",
    "version": 3
   },
   "file_extension": ".py",
   "mimetype": "text/x-python",
   "name": "python",
   "nbconvert_exporter": "python",
   "pygments_lexer": "ipython3",
   "version": "3.9.7"
  }
 },
 "nbformat": 4,
 "nbformat_minor": 5
}
