{
 "cells": [
  {
   "cell_type": "code",
   "execution_count": 19,
   "id": "3d8607fc",
   "metadata": {},
   "outputs": [
    {
     "name": "stdout",
     "output_type": "stream",
     "text": [
      "34-123\n"
     ]
    },
    {
     "ename": "IndexError",
     "evalue": "string index out of range",
     "output_type": "error",
     "traceback": [
      "\u001b[1;31m---------------------------------------------------------------------------\u001b[0m",
      "\u001b[1;31mIndexError\u001b[0m                                Traceback (most recent call last)",
      "\u001b[1;32m~\\AppData\\Local\\Temp/ipykernel_16240/962286512.py\u001b[0m in \u001b[0;36m<module>\u001b[1;34m\u001b[0m\n\u001b[0;32m      9\u001b[0m \u001b[1;32mfor\u001b[0m \u001b[0mi\u001b[0m \u001b[1;32min\u001b[0m \u001b[0mrange\u001b[0m\u001b[1;33m(\u001b[0m\u001b[0mlen\u001b[0m\u001b[1;33m(\u001b[0m\u001b[0ms\u001b[0m\u001b[1;33m)\u001b[0m\u001b[1;33m+\u001b[0m\u001b[1;36m1\u001b[0m\u001b[1;33m)\u001b[0m \u001b[1;33m:\u001b[0m\u001b[1;33m\u001b[0m\u001b[1;33m\u001b[0m\u001b[0m\n\u001b[0;32m     10\u001b[0m \u001b[1;33m\u001b[0m\u001b[0m\n\u001b[1;32m---> 11\u001b[1;33m     \u001b[1;32mif\u001b[0m\u001b[1;33m(\u001b[0m\u001b[0ms\u001b[0m\u001b[1;33m[\u001b[0m\u001b[0mi\u001b[0m\u001b[1;33m]\u001b[0m \u001b[1;33m==\u001b[0m \u001b[1;34m'-'\u001b[0m \u001b[1;32mor\u001b[0m \u001b[0ms\u001b[0m\u001b[1;33m[\u001b[0m\u001b[0mi\u001b[0m\u001b[1;33m]\u001b[0m \u001b[1;33m==\u001b[0m \u001b[1;34m'+'\u001b[0m \u001b[1;32mor\u001b[0m \u001b[0ms\u001b[0m\u001b[1;33m[\u001b[0m\u001b[0mi\u001b[0m\u001b[1;33m]\u001b[0m \u001b[1;33m==\u001b[0m \u001b[1;34m'\\0'\u001b[0m\u001b[1;33m)\u001b[0m\u001b[1;33m:\u001b[0m\u001b[1;33m\u001b[0m\u001b[1;33m\u001b[0m\u001b[0m\n\u001b[0m\u001b[0;32m     12\u001b[0m \u001b[1;33m\u001b[0m\u001b[0m\n\u001b[0;32m     13\u001b[0m \u001b[1;33m\u001b[0m\u001b[0m\n",
      "\u001b[1;31mIndexError\u001b[0m: string index out of range"
     ]
    }
   ],
   "source": [
    "s = str(input())\n",
    "\n",
    "#int 형\n",
    "sum = 0\n",
    "\n",
    "FirstMinusFlag = False\n",
    "\n",
    "temp = \"\"\n",
    "\n",
    "for i in s:\n",
    "\n",
    "# Python string은 할당된 string이상의 index에 접근하지 못하도록 되어있음\n",
    "# overflow를 강제로 발생시킬수 없음.\n",
    "    if(i == '-' or i == '+'):    \n",
    "        \n",
    "      \n",
    "        if(FirstMinusFlag == True):\n",
    "            sum -= int(temp)\n",
    "        else :\n",
    "            sum += (int(temp))\n",
    "            \n",
    "        temp = ''\n",
    "        if(i == '-') :\n",
    "            FirstMinusFlag = True\n",
    "        #부호일때 temp에 부호가 추가되지 않도록 continue\n",
    "        continue\n",
    "        \n",
    "    temp += str(i)\n",
    "\n",
    "\n",
    "#마지막 숫자를 추가해줌\n",
    "if(FirstMinusFlag == True):\n",
    "    sum -= int(temp)\n",
    "else :\n",
    "    sum += (int(temp))\n",
    "\n",
    "\n",
    "print(sum)\n"
   ]
  },
  {
   "cell_type": "code",
   "execution_count": null,
   "id": "d8248a63",
   "metadata": {},
   "outputs": [],
   "source": [
    "s = str(input())\n",
    "\n",
    "sum = 0\n",
    "\n",
    "FirstMinusFlag = False\n",
    "\n",
    "temp = \"\"\n",
    "\n",
    "for i in range(len(s)+1) :\n",
    "\n",
    "    #IndexError: string index out of range\n",
    "    if(s[i] == '-' or s[i] == '+' or s[i] == '\\0'):    \n",
    "        \n",
    "      \n",
    "        if(FirstMinusFlag == True):\n",
    "            sum -= int(temp)\n",
    "        else :\n",
    "            sum += (int(temp))\n",
    "            \n",
    "        temp = ''\n",
    "        if(s[i] == '-') :\n",
    "            FirstMinusFlag = True\n",
    "        \n",
    "        continue\n",
    "        \n",
    "    temp += str(s[i])\n",
    "\n",
    "    \n",
    "# if(FirstMinusFlag == True):\n",
    "#     sum -= int(temp)\n",
    "# else :\n",
    "#     sum += (int(temp))\n",
    "\n",
    "\n",
    "print(sum)\n"
   ]
  },
  {
   "cell_type": "code",
   "execution_count": null,
   "id": "4510918f",
   "metadata": {},
   "outputs": [],
   "source": []
  }
 ],
 "metadata": {
  "kernelspec": {
   "display_name": "Python 3 (ipykernel)",
   "language": "python",
   "name": "python3"
  },
  "language_info": {
   "codemirror_mode": {
    "name": "ipython",
    "version": 3
   },
   "file_extension": ".py",
   "mimetype": "text/x-python",
   "name": "python",
   "nbconvert_exporter": "python",
   "pygments_lexer": "ipython3",
   "version": "3.9.7"
  }
 },
 "nbformat": 4,
 "nbformat_minor": 5
}
